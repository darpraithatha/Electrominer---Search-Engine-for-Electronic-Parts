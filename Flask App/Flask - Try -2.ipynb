{
 "cells": [
  {
   "cell_type": "code",
   "execution_count": 1,
   "metadata": {},
   "outputs": [],
   "source": [
    "from flask import Flask, request, render_template, current_app\n",
    "from flask import Blueprint\n",
    "#from flask_paginate import Pagination, get_page_parameter\n",
    "from flask_pager import Pager\n",
    "\n",
    "import numpy as np\n",
    "import pandas as pd\n",
    "import csv\n",
    "import re\n",
    "from functools import reduce\n",
    "import spacy\n",
    "from spacy.lang.en.stop_words import STOP_WORDS\n",
    "spacy_nlp = spacy.load('en_core_web_sm')\n",
    "import os\n",
    "#nlp = en_core_web_sm.load()"
   ]
  },
  {
   "cell_type": "code",
   "execution_count": 2,
   "metadata": {},
   "outputs": [],
   "source": [
    "def stopwords_removal(list):\n",
    "    filtered_sentence =[] \n",
    "    for word in list:\n",
    "        lexeme = spacy_nlp.vocab[word]\n",
    "        if lexeme.is_stop == False:\n",
    "            filtered_sentence.append(word) \n",
    "    return filtered_sentence\n",
    "\n",
    "\n",
    "def preprocess_string(string):\n",
    "    return re.sub('[^a-zA-Z0-9\\s+]+','',string)\n",
    "\n",
    "\n",
    "def tokenize(query):\n",
    "    doc = spacy_nlp(query)\n",
    "    tokens = [token.text for token in doc]\n",
    "    return tokens\n",
    "\n",
    "\n",
    "def index(file):\n",
    "    inverted_index ={}\n",
    "    documents=[]\n",
    "    with open(file,encoding='utf-8') as f:\n",
    "            reader = csv.reader(f,delimiter=',')\n",
    "            next(reader)\n",
    "            for i, row in enumerate(reader):\n",
    "                document={}\n",
    "                document['url']=row[0]\n",
    "                document['Name']=row[1]\n",
    "                document['Description']= \" \".join(preprocess_string(row[2]).split())\n",
    "                document['img_url'] = row[3]\n",
    "                document['img_name']=row[4]\n",
    "                document['Price'] = row[5]\n",
    "                \n",
    "                documents.append(document)\n",
    "                #print(len(document['Description']))\n",
    "                \n",
    "                string = row[1]+ ' ' + row[2]\n",
    "                string = preprocess_string(string)\n",
    "                string = [word.lower() for word in string.split()]\n",
    "                string = \" \". join(string)\n",
    "                text = tokenize(string)\n",
    "                text = stopwords_removal(text)\n",
    "                text = list(set(text))\n",
    "                \n",
    "                for word in text:\n",
    "                    if word not in inverted_index:\n",
    "                        inverted_index[word] = []\n",
    "                        inverted_index[word].append(i)\n",
    "                    else:\n",
    "                        inverted_index[word].append(i)\n",
    "                        \n",
    "    return inverted_index,documents\n",
    "\n",
    "\n",
    "def query_inverted_index(word_list,inverted_index):\n",
    "    try:\n",
    "        inverted_word_list = [inverted_index[word] for word in word_list]\n",
    "        #print(inverted_word_list)\n",
    "    except KeyError:\n",
    "        return [-1]\n",
    "    if len(inverted_word_list)>0:\n",
    "        return reduce(np.intersect1d,inverted_word_list)\n",
    "    else:\n",
    "        return [-1]\n",
    "\n",
    "\n",
    "def query(query,inverted_index,documents):\n",
    "    query=preprocess_string(query)\n",
    "    print(query)\n",
    "    query = [word.lower() for word in query.split()]\n",
    "    query = \" \". join(query)\n",
    "    word_list=tokenize(query)\n",
    "    word_list=stopwords_removal(word_list)\n",
    "    document_index_list = query_inverted_index(word_list,inverted_index)\n",
    "    #print(document_index_list)\n",
    "    #print ([documents[index] for index in document_index_list])\n",
    "    if -1 not in document_index_list:\n",
    "        return [documents[index] for index in document_index_list]\n",
    "    else:\n",
    "        return []\n",
    "    \n",
    "\n",
    "def display_results(query,results):\n",
    "    print(\"Query:\"+ query)\n",
    "    if len(results) > 0:\n",
    "        print(results)\n",
    "        #for i,r in enumerate(results):\n",
    "        #    print(i+1,\"> \"+r['Name'])    \n",
    "    else:\n",
    "        print(\"unanswerable\")\n",
    "        \n",
    "def retrieve(que):\n",
    "    results = query(que, inverted_idx, documents)\n",
    "    #for i in range (0,5):\n",
    "    return(results)"
   ]
  },
  {
   "cell_type": "code",
   "execution_count": 3,
   "metadata": {},
   "outputs": [],
   "source": [
    "inverted_idx, documents = index('Final.csv')"
   ]
  },
  {
   "cell_type": "code",
   "execution_count": null,
   "metadata": {},
   "outputs": [
    {
     "name": "stdout",
     "output_type": "stream",
     "text": [
      " * Serving Flask app \"__main__\" (lazy loading)\n",
      " * Environment: production\n",
      "   WARNING: This is a development server. Do not use it in a production deployment.\n",
      "   Use a production WSGI server instead.\n",
      " * Debug mode: off\n"
     ]
    },
    {
     "name": "stderr",
     "output_type": "stream",
     "text": [
      " * Running on http://127.0.0.1:5000/ (Press CTRL+C to quit)\n"
     ]
    },
    {
     "name": "stdout",
     "output_type": "stream",
     "text": [
      "hihkdkjf\n"
     ]
    },
    {
     "name": "stderr",
     "output_type": "stream",
     "text": [
      "127.0.0.1 - - [01/Dec/2019 17:14:05] \"GET /?query=hihkdkjf HTTP/1.1\" 200 -\n"
     ]
    }
   ],
   "source": [
    "app = Flask(__name__)\n",
    "app.secret_key = os.urandom(42)\n",
    "app.config['PAGE_SIZE'] = 10\n",
    "app.config['VISIBLE_PAGE_COUNT'] = 10\n",
    "#app = Flask(static_folder='C:\\\\Users\\\\draithatha\\\\Documents\\\\Study\\\\BIA\\\\Flask\\\\Images')\n",
    "\n",
    "@app.route('/')\n",
    "def index():\n",
    "    #page = int(request.args.get('page', 1))\n",
    "    query = request.args.get(\"query\", None)\n",
    "    q = query\n",
    "    \n",
    "    if query:\n",
    "        #app.logger.info(\"Query {} received\".format(query))\n",
    "        page = int(request.args.get('page', 1))\n",
    "        #query = request.args.get(\"query\", None)\n",
    "        results = retrieve(query)\n",
    "        \n",
    "        if (len(results)>0):\n",
    "            count = len(results)\n",
    "            data = results\n",
    "            pager = Pager(page, count)\n",
    "            pages = pager.get_pages()\n",
    "            skip = (page - 1) * current_app.config['PAGE_SIZE']\n",
    "            limit = current_app.config['PAGE_SIZE']\n",
    "            data_to_show = data[skip: skip + limit]\n",
    "            #print(data_to_show)\n",
    "\n",
    "            return render_template('results.html', pages=pages, query=query, data_to_show=data_to_show)\n",
    "        \n",
    "        else:\n",
    "            \n",
    "            return render_template('no_results.html', query=query)\n",
    "            \n",
    "\n",
    "    else:\n",
    "        return render_template('index.html')\n",
    "    \n",
    "app.run()"
   ]
  },
  {
   "cell_type": "code",
   "execution_count": null,
   "metadata": {},
   "outputs": [],
   "source": []
  },
  {
   "cell_type": "code",
   "execution_count": null,
   "metadata": {},
   "outputs": [],
   "source": []
  },
  {
   "cell_type": "code",
   "execution_count": null,
   "metadata": {},
   "outputs": [],
   "source": []
  },
  {
   "cell_type": "code",
   "execution_count": null,
   "metadata": {},
   "outputs": [],
   "source": []
  },
  {
   "cell_type": "code",
   "execution_count": null,
   "metadata": {},
   "outputs": [],
   "source": []
  },
  {
   "cell_type": "code",
   "execution_count": null,
   "metadata": {},
   "outputs": [],
   "source": []
  }
 ],
 "metadata": {
  "kernelspec": {
   "display_name": "Python 3",
   "language": "python",
   "name": "python3"
  },
  "language_info": {
   "codemirror_mode": {
    "name": "ipython",
    "version": 3
   },
   "file_extension": ".py",
   "mimetype": "text/x-python",
   "name": "python",
   "nbconvert_exporter": "python",
   "pygments_lexer": "ipython3",
   "version": "3.7.1"
  }
 },
 "nbformat": 4,
 "nbformat_minor": 2
}
